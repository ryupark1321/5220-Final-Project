{
 "cells": [
  {
   "cell_type": "code",
   "execution_count": 1,
   "id": "135bc923-3387-4cea-b888-3abe2e8c93d0",
   "metadata": {
    "tags": []
   },
   "outputs": [
    {
     "name": "stdout",
     "output_type": "stream",
     "text": [
      "Sat May  4 12:25:36 2024       \n",
      "+-----------------------------------------------------------------------------+\n",
      "| NVIDIA-SMI 525.105.17   Driver Version: 525.105.17   CUDA Version: 12.2     |\n",
      "|-------------------------------+----------------------+----------------------+\n",
      "| GPU  Name        Persistence-M| Bus-Id        Disp.A | Volatile Uncorr. ECC |\n",
      "| Fan  Temp  Perf  Pwr:Usage/Cap|         Memory-Usage | GPU-Util  Compute M. |\n",
      "|                               |                      |               MIG M. |\n",
      "|===============================+======================+======================|\n",
      "|   0  NVIDIA A100-SXM...  On   | 00000000:C1:00.0 Off |                    0 |\n",
      "| N/A   28C    P0    51W / 400W |      0MiB / 40960MiB |      0%      Default |\n",
      "|                               |                      |             Disabled |\n",
      "+-------------------------------+----------------------+----------------------+\n",
      "                                                                               \n",
      "+-----------------------------------------------------------------------------+\n",
      "| Processes:                                                                  |\n",
      "|  GPU   GI   CI        PID   Type   Process name                  GPU Memory |\n",
      "|        ID   ID                                                   Usage      |\n",
      "|=============================================================================|\n",
      "|  No running processes found                                                 |\n",
      "+-----------------------------------------------------------------------------+\n"
     ]
    }
   ],
   "source": [
    "get_ipython().system('nvidia-smi')"
   ]
  },
  {
   "cell_type": "code",
   "execution_count": 2,
   "id": "4f776283-f7b0-4af1-9756-cd276355e3dc",
   "metadata": {
    "tags": []
   },
   "outputs": [
    {
     "name": "stdout",
     "output_type": "stream",
     "text": [
      "Defaulting to user installation because normal site-packages is not writeable\n",
      "Requirement already satisfied: nvidia-cudnn-cu12 in /global/homes/h/hcn9/.local/perlmutter/python-3.11/lib/python3.11/site-packages (8.9.2.26)\n",
      "Requirement already satisfied: nvidia-cublas-cu12 in /global/homes/h/hcn9/.local/perlmutter/python-3.11/lib/python3.11/site-packages (from nvidia-cudnn-cu12) (12.1.3.1)\n",
      "Defaulting to user installation because normal site-packages is not writeable\n",
      "Collecting git+https://github.com/NVIDIA/cudnn-frontend.git\n",
      "  Cloning https://github.com/NVIDIA/cudnn-frontend.git to /tmp/pip-req-build-b_fxdukd\n",
      "  Running command git clone --filter=blob:none --quiet https://github.com/NVIDIA/cudnn-frontend.git /tmp/pip-req-build-b_fxdukd\n",
      "  Resolved https://github.com/NVIDIA/cudnn-frontend.git to commit 1b0b5eac540b7f8fd19b18f1e6b8427c95503348\n",
      "  Installing build dependencies ... \u001b[?25ldone\n",
      "\u001b[?25h  Getting requirements to build wheel ... \u001b[?25ldone\n",
      "\u001b[?25h  Installing backend dependencies ... \u001b[?25ldone\n",
      "\u001b[?25h  Preparing metadata (pyproject.toml) ... \u001b[?25ldone\n",
      "\u001b[?25hDefaulting to user installation because normal site-packages is not writeable\n",
      "Looking in indexes: https://download.pytorch.org/whl/nightly/cu121\n",
      "Requirement already satisfied: torch in /global/homes/h/hcn9/.local/perlmutter/python-3.11/lib/python3.11/site-packages (2.4.0.dev20240504+cu121)\n",
      "Requirement already satisfied: filelock in /global/homes/h/hcn9/.local/perlmutter/python-3.11/lib/python3.11/site-packages (from torch) (3.13.1)\n",
      "Requirement already satisfied: typing-extensions>=4.8.0 in /global/common/software/nersc/pe/conda-envs/24.1.0/python-3.11/nersc-python/lib/python3.11/site-packages (from torch) (4.9.0)\n",
      "Requirement already satisfied: sympy in /global/common/software/nersc/pe/conda-envs/24.1.0/python-3.11/nersc-python/lib/python3.11/site-packages (from torch) (1.12)\n",
      "Requirement already satisfied: networkx in /global/common/software/nersc/pe/conda-envs/24.1.0/python-3.11/nersc-python/lib/python3.11/site-packages (from torch) (3.2.1)\n",
      "Requirement already satisfied: jinja2 in /global/common/software/nersc/pe/conda-envs/24.1.0/python-3.11/nersc-python/lib/python3.11/site-packages (from torch) (3.1.2)\n",
      "Requirement already satisfied: fsspec in /global/common/software/nersc/pe/conda-envs/24.1.0/python-3.11/nersc-python/lib/python3.11/site-packages (from torch) (2023.12.2)\n",
      "Requirement already satisfied: nvidia-cuda-nvrtc-cu12==12.1.105 in /global/homes/h/hcn9/.local/perlmutter/python-3.11/lib/python3.11/site-packages (from torch) (12.1.105)\n",
      "Requirement already satisfied: nvidia-cuda-runtime-cu12==12.1.105 in /global/homes/h/hcn9/.local/perlmutter/python-3.11/lib/python3.11/site-packages (from torch) (12.1.105)\n",
      "Requirement already satisfied: nvidia-cuda-cupti-cu12==12.1.105 in /global/homes/h/hcn9/.local/perlmutter/python-3.11/lib/python3.11/site-packages (from torch) (12.1.105)\n",
      "Requirement already satisfied: nvidia-cudnn-cu12==8.9.2.26 in /global/homes/h/hcn9/.local/perlmutter/python-3.11/lib/python3.11/site-packages (from torch) (8.9.2.26)\n",
      "Requirement already satisfied: nvidia-cublas-cu12==12.1.3.1 in /global/homes/h/hcn9/.local/perlmutter/python-3.11/lib/python3.11/site-packages (from torch) (12.1.3.1)\n",
      "Requirement already satisfied: nvidia-cufft-cu12==11.0.2.54 in /global/homes/h/hcn9/.local/perlmutter/python-3.11/lib/python3.11/site-packages (from torch) (11.0.2.54)\n",
      "Requirement already satisfied: nvidia-curand-cu12==10.3.2.106 in /global/homes/h/hcn9/.local/perlmutter/python-3.11/lib/python3.11/site-packages (from torch) (10.3.2.106)\n",
      "Requirement already satisfied: nvidia-cusolver-cu12==11.4.5.107 in /global/homes/h/hcn9/.local/perlmutter/python-3.11/lib/python3.11/site-packages (from torch) (11.4.5.107)\n",
      "Requirement already satisfied: nvidia-cusparse-cu12==12.1.0.106 in /global/homes/h/hcn9/.local/perlmutter/python-3.11/lib/python3.11/site-packages (from torch) (12.1.0.106)\n",
      "Requirement already satisfied: nvidia-nccl-cu12==2.20.5 in /global/homes/h/hcn9/.local/perlmutter/python-3.11/lib/python3.11/site-packages (from torch) (2.20.5)\n",
      "Requirement already satisfied: nvidia-nvtx-cu12==12.1.105 in /global/homes/h/hcn9/.local/perlmutter/python-3.11/lib/python3.11/site-packages (from torch) (12.1.105)\n",
      "Requirement already satisfied: pytorch-triton==3.0.0+45fff310c8 in /global/homes/h/hcn9/.local/perlmutter/python-3.11/lib/python3.11/site-packages (from torch) (3.0.0+45fff310c8)\n",
      "Requirement already satisfied: nvidia-nvjitlink-cu12 in /global/homes/h/hcn9/.local/perlmutter/python-3.11/lib/python3.11/site-packages (from nvidia-cusolver-cu12==11.4.5.107->torch) (12.1.105)\n",
      "Requirement already satisfied: MarkupSafe>=2.0 in /global/common/software/nersc/pe/conda-envs/24.1.0/python-3.11/nersc-python/lib/python3.11/site-packages (from jinja2->torch) (2.1.3)\n",
      "Requirement already satisfied: mpmath>=0.19 in /global/common/software/nersc/pe/conda-envs/24.1.0/python-3.11/nersc-python/lib/python3.11/site-packages (from sympy->torch) (1.3.0)\n"
     ]
    }
   ],
   "source": [
    "get_ipython().system('pip install nvidia-cudnn-cu12')\n",
    "get_ipython().system('CUDNN_PATH=`pip show nvidia-cudnn-cu12  | grep Location | cut -d\\\":\\\" -f2 | xargs`/nvidia/cudnn pip install git+https://github.com/NVIDIA/cudnn-frontend.git')\n",
    "get_ipython().system('pip3 install --pre torch --index-url https://download.pytorch.org/whl/nightly/cu121')"
   ]
  },
  {
   "cell_type": "code",
   "execution_count": 4,
   "id": "f5d351dd-9740-42c7-b79c-d72534dd4c0d",
   "metadata": {
    "tags": []
   },
   "outputs": [],
   "source": [
    "import cudnn"
   ]
  },
  {
   "cell_type": "code",
   "execution_count": 5,
   "id": "2b303808-ce91-416e-9e9e-4300aee221e4",
   "metadata": {
    "tags": []
   },
   "outputs": [
    {
     "name": "stdout",
     "output_type": "stream",
     "text": [
      "8902\n"
     ]
    }
   ],
   "source": [
    "print(cudnn.backend_version())\n",
    "\n",
    "handle = cudnn.create_handle()"
   ]
  },
  {
   "cell_type": "code",
   "execution_count": 6,
   "id": "58bb784b-08ec-4901-b43e-8ea7c51d9fec",
   "metadata": {
    "tags": []
   },
   "outputs": [],
   "source": [
    "graph = cudnn.pygraph(handle = handle, name = \"cudnn_graph_0\", io_data_type = cudnn.data_type.FLOAT, compute_data_type = cudnn.data_type.FLOAT)"
   ]
  },
  {
   "cell_type": "code",
   "execution_count": 7,
   "id": "8c087725-86d0-4def-8d19-0542e0b21c0c",
   "metadata": {
    "tags": []
   },
   "outputs": [],
   "source": [
    "X = graph.tensor(name = \"X\", dim = [8, 64, 56, 56], stride = [56 * 56 * 64, 1, 56 * 64 ,64], data_type=cudnn.data_type.HALF)"
   ]
  },
  {
   "cell_type": "code",
   "execution_count": 8,
   "id": "ab314c0a-2b74-4e52-9934-4390b55e593d",
   "metadata": {
    "tags": []
   },
   "outputs": [],
   "source": [
    "W = graph.tensor(name = \"W\", dim = [32, 64, 3, 3], stride = [3 * 3 * 64, 1, 3 * 64 ,64])"
   ]
  },
  {
   "cell_type": "code",
   "execution_count": 9,
   "id": "1f0b8f51-82fb-4978-840b-b426f2205993",
   "metadata": {
    "tags": []
   },
   "outputs": [],
   "source": [
    "Y = graph.conv_fprop(X, W, padding = [1,1], stride = [1,1], dilation = [1,1], compute_data_type = cudnn.data_type.FLOAT)"
   ]
  },
  {
   "cell_type": "code",
   "execution_count": 10,
   "id": "ee66b5d5-2097-434e-a395-bc16ea4f207c",
   "metadata": {
    "tags": []
   },
   "outputs": [
    {
     "name": "stdout",
     "output_type": "stream",
     "text": [
      "[{\"data_type\":null,\"dim\":[],\"is_pass_by_value\":false,\"is_virtual\":true,\"name\":\"::Y\",\"pass_by_value\":null,\"reordering_type\":\"NONE\",\"stride\":[],\"uid\":0,\"uid_assigned\":false}]\n"
     ]
    }
   ],
   "source": [
    "print(Y)"
   ]
  },
  {
   "cell_type": "code",
   "execution_count": 11,
   "id": "28ce3629-cb3a-402f-b53e-f81d52d1e2d0",
   "metadata": {
    "tags": []
   },
   "outputs": [
    {
     "data": {
      "text/plain": [
       "[{\"data_type\":null,\"dim\":[],\"is_pass_by_value\":false,\"is_virtual\":false,\"name\":\"::Y\",\"pass_by_value\":null,\"reordering_type\":\"NONE\",\"stride\":[],\"uid\":0,\"uid_assigned\":false}]"
      ]
     },
     "execution_count": 11,
     "metadata": {},
     "output_type": "execute_result"
    }
   ],
   "source": [
    "Y.set_output(True)"
   ]
  },
  {
   "cell_type": "code",
   "execution_count": 12,
   "id": "57c029f0-13de-45c2-9134-833679296d07",
   "metadata": {
    "tags": []
   },
   "outputs": [],
   "source": [
    "graph.build([cudnn.heur_mode.A])\n"
   ]
  },
  {
   "cell_type": "code",
   "execution_count": 13,
   "id": "0d08aba3-c8f8-4c1c-9bc9-9d476e908aa9",
   "metadata": {
    "tags": []
   },
   "outputs": [],
   "source": [
    "import torch\n",
    "\n",
    "\n",
    "X_gpu = torch.randn(8, 64, 56, 56, requires_grad=False, device=\"cuda\", dtype=torch.float16).to(memory_format=torch.channels_last)\n",
    "W_gpu = torch.randn(32, 64, 3, 3, requires_grad=False, device=\"cuda\", dtype=torch.float16).to(memory_format=torch.channels_last)\n",
    "Y_gpu = torch.zeros(8, 32, 3, 3, requires_grad=False, device=\"cuda\", dtype=torch.float16).to(memory_format=torch.channels_last)\n",
    "workspace = torch.empty(graph.get_workspace_size(), device=\"cuda\", dtype=torch.uint8)"
   ]
  },
  {
   "cell_type": "code",
   "execution_count": 14,
   "id": "478218b7-91d6-4675-8298-ce92eac9723a",
   "metadata": {
    "tags": []
   },
   "outputs": [],
   "source": [
    "graph.execute({X: X_gpu, W: W_gpu, Y: Y_gpu}, workspace, handle= handle)"
   ]
  },
  {
   "cell_type": "code",
   "execution_count": 16,
   "id": "02e80924-980d-488f-b091-93c1ebb9b94c",
   "metadata": {
    "tags": []
   },
   "outputs": [
    {
     "name": "stdout",
     "output_type": "stream",
     "text": [
      "tensor([[[[-1.3486e+00, -1.2258e+01, -2.1125e+01],\n",
      "          [ 1.0641e+01,  1.0125e+01,  4.5586e+00],\n",
      "          [ 3.0406e+01, -6.3125e+00,  2.1859e+01]],\n",
      "\n",
      "         [[ 2.6750e+01,  3.3000e+01,  1.0945e+01],\n",
      "          [-2.3859e+01, -7.4453e+00, -2.6750e+01],\n",
      "          [ 1.7906e+01, -3.4156e+01, -2.0141e+01]],\n",
      "\n",
      "         [[ 8.8672e+00,  5.3164e+00, -2.5234e+01],\n",
      "          [ 2.2906e+01, -2.7750e+01,  2.4125e+01],\n",
      "          [ 1.1688e+01,  1.2141e+01, -1.7703e+01]],\n",
      "\n",
      "         ...,\n",
      "\n",
      "         [[ 1.7969e+01,  3.2562e+01, -1.2347e-01],\n",
      "          [-1.1258e+01,  1.7688e+01, -2.9219e+01],\n",
      "          [ 1.3641e+01,  1.7016e+01,  1.4828e+01]],\n",
      "\n",
      "         [[-4.4688e+00, -3.4082e+00, -2.0266e+01],\n",
      "          [ 1.5625e+01,  8.1172e+00, -1.3047e+01],\n",
      "          [ 2.8535e+00, -3.7070e+00,  2.2000e+01]],\n",
      "\n",
      "         [[-6.2683e-02,  2.2422e+01, -1.0922e+01],\n",
      "          [-1.6484e+01,  8.1953e+00,  3.4906e+01],\n",
      "          [ 1.6281e+01,  1.8609e+01,  1.5445e+01]]],\n",
      "\n",
      "\n",
      "        [[[ 1.7871e+00,  1.0029e+00,  4.1523e+00],\n",
      "          [ 1.9906e+01, -9.0469e+00,  4.7188e+00],\n",
      "          [ 8.1484e+00, -5.7861e-01,  1.8766e+01]],\n",
      "\n",
      "         [[ 1.0062e+01, -2.8422e+01, -6.8125e+00],\n",
      "          [ 2.1328e+01,  1.1859e+01,  2.4531e+01],\n",
      "          [-2.4734e+01,  1.1773e+01,  9.3984e+00]],\n",
      "\n",
      "         [[ 2.9938e+01, -1.8799e+00, -1.1240e+00],\n",
      "          [ 7.6367e+00, -2.9969e+01, -1.2266e+01],\n",
      "          [-1.6188e+01,  1.2008e+01, -1.1188e+01]],\n",
      "\n",
      "         ...,\n",
      "\n",
      "         [[-8.1797e+00,  1.5219e+01,  8.3125e+00],\n",
      "          [-2.2453e+01,  3.2969e+01, -1.1766e+01],\n",
      "          [-1.4945e+01,  1.0930e+01, -1.7156e+01]],\n",
      "\n",
      "         [[ 1.0367e+01,  1.0023e+01,  3.0844e+01],\n",
      "          [ 2.7000e+01,  1.6359e+01, -6.3984e+00],\n",
      "          [-5.9023e+00,  2.1859e+01,  2.0996e-01]],\n",
      "\n",
      "         [[-5.4562e+01, -1.7810e-01, -2.7703e+01],\n",
      "          [ 2.1875e+00, -2.0938e+01,  7.3594e+00],\n",
      "          [-4.6406e+00, -1.5336e+01,  1.8156e+01]]],\n",
      "\n",
      "\n",
      "        [[[ 1.3961e+01,  3.3398e-01,  1.5953e+01],\n",
      "          [-3.4125e+01, -1.5867e+01, -1.6188e+01],\n",
      "          [-1.1258e+01,  1.1055e+00,  1.7281e+01]],\n",
      "\n",
      "         [[-4.1289e+00, -9.9219e+00, -7.2031e+00],\n",
      "          [-1.9562e+01, -1.9391e+01, -2.3000e+01],\n",
      "          [ 2.1094e+01, -3.8625e+01, -2.3281e+01]],\n",
      "\n",
      "         [[-3.2148e+00,  1.4031e+01,  1.3812e+01],\n",
      "          [ 2.6906e+01,  1.1312e+01,  1.3039e+01],\n",
      "          [ 3.2281e+01, -6.7305e+00,  2.5547e+01]],\n",
      "\n",
      "         ...,\n",
      "\n",
      "         [[-2.2312e+01, -2.8149e-01, -5.1250e+00],\n",
      "          [ 1.2906e+01,  4.3625e+01,  4.9766e+00],\n",
      "          [-2.3047e+01,  1.3875e+01, -8.0391e+00]],\n",
      "\n",
      "         [[-7.9531e+00, -2.0234e+01,  3.1781e+01],\n",
      "          [ 3.2094e+01,  2.1578e+01, -2.6094e+01],\n",
      "          [ 3.4562e+01,  2.6196e-01, -2.0527e+00]],\n",
      "\n",
      "         [[ 2.2422e+01, -2.3078e+01,  5.8438e+00],\n",
      "          [ 4.3688e+01, -1.1211e+01, -4.2227e+00],\n",
      "          [ 4.3242e+00,  2.6969e+01, -8.8672e+00]]],\n",
      "\n",
      "\n",
      "        ...,\n",
      "\n",
      "\n",
      "        [[[-8.9922e+00, -5.5078e+00, -1.1445e+01],\n",
      "          [ 1.8555e+00, -1.6328e+01, -7.4727e+00],\n",
      "          [-1.0648e+01,  1.2016e+01,  1.8109e+01]],\n",
      "\n",
      "         [[ 1.0508e+01,  2.1875e+00, -3.0172e+01],\n",
      "          [ 6.3906e+01,  2.0984e+01, -6.3164e+00],\n",
      "          [ 4.0117e+00,  2.7562e+01,  3.1688e+01]],\n",
      "\n",
      "         [[-1.2164e+01,  1.3172e+01, -1.8391e+01],\n",
      "          [ 1.2797e+01,  1.4891e+01,  2.2875e+01],\n",
      "          [-2.3234e+01, -3.6055e+00, -1.0594e+01]],\n",
      "\n",
      "         ...,\n",
      "\n",
      "         [[-2.4316e+00,  7.8789e+00, -3.2676e+00],\n",
      "          [-1.3501e-01,  5.3828e+00,  1.7547e+01],\n",
      "          [ 1.7406e+01,  2.7703e+01,  3.3500e+01]],\n",
      "\n",
      "         [[ 1.4945e+01,  4.5625e+00, -1.3352e+01],\n",
      "          [ 1.2090e+00,  6.7695e+00, -1.4555e+01],\n",
      "          [-2.8812e+01, -1.2273e+01,  2.1266e+01]],\n",
      "\n",
      "         [[ 1.6344e+01, -2.7109e+01, -4.5898e+00],\n",
      "          [ 5.8320e+00, -1.0633e+01,  7.1484e-01],\n",
      "          [ 1.8922e+01,  3.3438e+01, -4.3031e+01]]],\n",
      "\n",
      "\n",
      "        [[[-1.1914e+01, -6.0039e+00, -2.1602e+00],\n",
      "          [-7.2438e+01, -1.3062e+01,  5.6188e+01],\n",
      "          [ 6.3984e+00,  7.9609e+00, -2.3672e+01]],\n",
      "\n",
      "         [[-7.9609e+00, -2.0500e+01, -2.3406e+01],\n",
      "          [ 1.5102e+01, -9.9766e+00,  3.0797e+01],\n",
      "          [ 3.8750e+01, -1.2195e+01,  1.4586e+01]],\n",
      "\n",
      "         [[-1.4336e+01,  8.4531e+00, -3.0828e+01],\n",
      "          [-5.1094e+00, -9.7422e+00,  3.3625e+01],\n",
      "          [ 3.7000e+01, -3.7344e+01, -3.1344e+01]],\n",
      "\n",
      "         ...,\n",
      "\n",
      "         [[ 1.4551e+00,  3.1656e+01, -1.4281e+01],\n",
      "          [ 1.8484e+01,  2.7520e+00, -4.0406e+01],\n",
      "          [-2.4516e+01, -1.6064e+00, -7.2617e+00]],\n",
      "\n",
      "         [[-2.5078e+01,  8.2266e+00,  3.7656e+01],\n",
      "          [-1.3258e+01, -1.2227e+01, -2.1844e+01],\n",
      "          [-2.0156e+01,  1.2117e+01, -4.7812e+01]],\n",
      "\n",
      "         [[-6.5742e+00,  3.0984e+01,  2.3609e+01],\n",
      "          [ 2.5578e+01,  1.0693e+00, -5.5391e+00],\n",
      "          [ 5.6625e+01, -4.7531e+01,  2.4980e+00]]],\n",
      "\n",
      "\n",
      "        [[[-2.1891e+01,  9.8125e+00, -3.3406e+01],\n",
      "          [ 2.4121e+00,  2.3297e+01, -4.5508e-01],\n",
      "          [ 4.6191e-01, -1.3891e+01,  6.4111e-01]],\n",
      "\n",
      "         [[ 2.4688e+01, -2.6859e+01, -1.6578e+01],\n",
      "          [-2.6328e+01,  4.7461e+00, -1.4859e+01],\n",
      "          [-9.2188e+00, -2.0918e+00, -1.4561e+00]],\n",
      "\n",
      "         [[ 1.0500e+01,  1.5078e+00, -3.9141e+00],\n",
      "          [-1.9547e+01,  1.2109e+01,  9.0703e+00],\n",
      "          [-3.8281e+00, -1.0180e+01,  4.9023e+00]],\n",
      "\n",
      "         ...,\n",
      "\n",
      "         [[ 1.2500e+01, -1.8969e+01, -1.6906e+01],\n",
      "          [-2.6125e+01, -1.2102e+01,  1.1078e+01],\n",
      "          [-2.4734e+01,  6.4492e+00, -2.9688e+01]],\n",
      "\n",
      "         [[ 3.8672e+00,  3.8688e+01, -2.6672e+01],\n",
      "          [-8.1484e+00, -1.5477e+01, -2.9969e+01],\n",
      "          [ 2.4047e+01,  9.8516e+00,  3.3812e+01]],\n",
      "\n",
      "         [[ 8.9922e+00,  2.6922e+01, -4.8984e+00],\n",
      "          [ 1.8484e+01,  3.4094e+01,  3.0844e+01],\n",
      "          [ 1.3844e+01,  2.9219e+00, -7.4658e-01]]]], device='cuda:0',\n",
      "       dtype=torch.float16)\n"
     ]
    }
   ],
   "source": [
    "print(Y_gpu)"
   ]
  },
  {
   "cell_type": "code",
   "execution_count": null,
   "id": "db645de3-8149-47e9-8fe8-41c18f70dfcc",
   "metadata": {},
   "outputs": [],
   "source": []
  }
 ],
 "metadata": {
  "kernelspec": {
   "display_name": "NERSC Python",
   "language": "python",
   "name": "python3"
  },
  "language_info": {
   "codemirror_mode": {
    "name": "ipython",
    "version": 3
   },
   "file_extension": ".py",
   "mimetype": "text/x-python",
   "name": "python",
   "nbconvert_exporter": "python",
   "pygments_lexer": "ipython3",
   "version": "3.11.7"
  }
 },
 "nbformat": 4,
 "nbformat_minor": 5
}
