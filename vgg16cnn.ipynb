{
 "cells": [
  {
   "cell_type": "code",
   "execution_count": 6,
   "id": "a1ab5354-2efd-4707-b591-d12dfb680073",
   "metadata": {
    "tags": []
   },
   "outputs": [],
   "source": [
    "import tensorflow as tf\n",
    "from tensorflow.keras.models import Sequential\n",
    "from tensorflow.keras.layers import MaxPooling2D, Flatten, Dense, Conv2D, Rescaling\n",
    "import mpi4py\n",
    "import os"
   ]
  },
  {
   "cell_type": "code",
   "execution_count": 7,
   "id": "bbb82606-d86e-43ff-b6f7-5025a97c3e4e",
   "metadata": {
    "tags": []
   },
   "outputs": [
    {
     "name": "stdout",
     "output_type": "stream",
     "text": [
      "Found 9469 files belonging to 10 classes.\n",
      "Found 3925 files belonging to 10 classes.\n"
     ]
    }
   ],
   "source": [
    "# load in dataset from imagenette \n",
    "\n",
    "batch_size = 128\n",
    "img_height = 224\n",
    "img_width = 224\n",
    "scratch = os.environ['SCRATCH']\n",
    "train_dir = os.path.join(scratch,'imagenette/imagenette2/train/')\n",
    "val_dir = os.path.join(scratch,'imagenette/imagenette2/val/')\n",
    "\n",
    "train_dataset = tf.keras.utils.image_dataset_from_directory(\n",
    "    train_dir,\n",
    "    labels='inferred',\n",
    "    label_mode='int',\n",
    "    class_names=None,\n",
    "    color_mode='rgb',\n",
    "    batch_size=batch_size,\n",
    "    image_size=(img_height, img_width),\n",
    "    shuffle=True,\n",
    ")\n",
    "\n",
    "val_dataset = tf.keras.utils.image_dataset_from_directory(\n",
    "    val_dir,\n",
    "    labels='inferred',\n",
    "    label_mode='int',\n",
    "    class_names=None,\n",
    "    color_mode='rgb',\n",
    "    batch_size=batch_size,\n",
    "    image_size=(img_height, img_width),\n",
    "    shuffle=True,\n",
    ")\n",
    "\n",
    "AUTOTUNE = tf.data.AUTOTUNE\n",
    "\n",
    "# train_dataset = train_dataset.cache().prefetch(buffer_size=AUTOTUNE)\n",
    "# val_dataset = val_dataset.cache().prefetch(buffer_size=AUTOTUNE)"
   ]
  },
  {
   "cell_type": "code",
   "execution_count": null,
   "id": "44298dd6-497b-4f8a-8795-15d08e62c1c3",
   "metadata": {},
   "outputs": [],
   "source": [
    "img, label = "
   ]
  },
  {
   "cell_type": "code",
   "execution_count": 8,
   "id": "d8f95a64-7119-4a99-8798-662c6b919803",
   "metadata": {
    "tags": []
   },
   "outputs": [],
   "source": [
    "def vgg16():\n",
    "    model = Sequential([\n",
    "        Rescaling(1./255),\n",
    "        Conv2D(64, (3, 3), activation='relu', padding='same', input_shape=(224, 224, 3), strides=1),\n",
    "        Conv2D(64, (3, 3), activation='relu', padding='same', strides=1),\n",
    "        MaxPooling2D((2, 2), strides=(2, 2)),\n",
    "        \n",
    "        Conv2D(128, (3, 3), activation='relu', padding='same', strides=1),\n",
    "        Conv2D(128, (3, 3), activation='relu', padding='same', strides=1),\n",
    "        MaxPooling2D((2, 2), strides=(2, 2)),\n",
    "        \n",
    "        Conv2D(256, (3, 3), activation='relu', padding='same', strides=1),\n",
    "        Conv2D(256, (3, 3), activation='relu', padding='same', strides=1),\n",
    "        Conv2D(256, (3, 3), activation='relu', padding='same', strides=1),\n",
    "        MaxPooling2D((2, 2), strides=(2, 2)),\n",
    "        \n",
    "        Conv2D(512, (3, 3), activation='relu', padding='same', strides=1),\n",
    "        Conv2D(512, (3, 3), activation='relu', padding='same', strides=1),\n",
    "        Conv2D(512, (3, 3), activation='relu', padding='same', strides=1),\n",
    "        MaxPooling2D((2, 2), strides=(2, 2)),\n",
    "        \n",
    "        Conv2D(512, (3, 3), activation='relu', padding='same', strides=1),\n",
    "        Conv2D(512, (3, 3), activation='relu', padding='same', strides=1),\n",
    "        Conv2D(512, (3, 3), activation='relu', padding='same', strides=1),\n",
    "        MaxPooling2D((2, 2), strides=(2, 2)),\n",
    "        \n",
    "        Flatten(),\n",
    "        Dense(4096, activation='relu'),\n",
    "        Dense(4096, activation='relu'),\n",
    "        Dense(1000, activation='softmax')\n",
    "    ])\n",
    "    return model"
   ]
  },
  {
   "cell_type": "code",
   "execution_count": null,
   "id": "3e86ebd8-bbc6-4a0c-af86-4e4a1ec585d4",
   "metadata": {
    "tags": []
   },
   "outputs": [],
   "source": [
    "train_dataset\n",
    "for image, label in train_dataset.take(1):\n",
    "    print(image.shape)\n",
    "    # print(label)"
   ]
  },
  {
   "cell_type": "code",
   "execution_count": null,
   "id": "fd585f4e-98a8-48d7-8526-3ec77ab41aa3",
   "metadata": {},
   "outputs": [
    {
     "name": "stdout",
     "output_type": "stream",
     "text": [
      "Num GPUs Available:  1\n",
      "Epoch 1/50\n",
      "74/74 [==============================] - 20s 263ms/step - loss: 3.0138 - accuracy: 0.0979 - val_loss: 2.3219 - val_accuracy: 0.0994\n",
      "Epoch 2/50\n",
      "74/74 [==============================] - 19s 261ms/step - loss: 2.3197 - accuracy: 0.1019 - val_loss: 2.3221 - val_accuracy: 0.1017\n",
      "Epoch 3/50\n",
      "74/74 [==============================] - 19s 261ms/step - loss: 2.3388 - accuracy: 0.1079 - val_loss: 2.3272 - val_accuracy: 0.1006\n",
      "Epoch 4/50\n",
      "74/74 [==============================] - 19s 261ms/step - loss: 2.3144 - accuracy: 0.1006 - val_loss: 2.3262 - val_accuracy: 0.1006\n",
      "Epoch 5/50\n",
      "74/74 [==============================] - 19s 261ms/step - loss: 2.3120 - accuracy: 0.1035 - val_loss: 2.2886 - val_accuracy: 0.1641\n",
      "Epoch 6/50\n",
      "74/74 [==============================] - 19s 261ms/step - loss: 2.1637 - accuracy: 0.2200 - val_loss: 2.0984 - val_accuracy: 0.2701\n",
      "Epoch 7/50\n",
      "74/74 [==============================] - 19s 261ms/step - loss: 1.8611 - accuracy: 0.3553 - val_loss: 1.7146 - val_accuracy: 0.4130\n",
      "Epoch 8/50\n",
      "74/74 [==============================] - 19s 261ms/step - loss: 1.5894 - accuracy: 0.4647 - val_loss: 1.5891 - val_accuracy: 0.4604\n",
      "Epoch 9/50\n",
      "74/74 [==============================] - 19s 261ms/step - loss: 1.3831 - accuracy: 0.5369 - val_loss: 1.4618 - val_accuracy: 0.5203\n",
      "Epoch 10/50\n",
      "74/74 [==============================] - 19s 261ms/step - loss: 1.1765 - accuracy: 0.6050 - val_loss: 1.3572 - val_accuracy: 0.5572\n",
      "Epoch 11/50\n",
      "74/74 [==============================] - 19s 261ms/step - loss: 1.0136 - accuracy: 0.6584 - val_loss: 1.2998 - val_accuracy: 0.6020\n",
      "Epoch 12/50\n",
      "74/74 [==============================] - 19s 261ms/step - loss: 0.8079 - accuracy: 0.7303 - val_loss: 1.4368 - val_accuracy: 0.5911\n",
      "Epoch 13/50\n",
      "74/74 [==============================] - 19s 261ms/step - loss: 0.5429 - accuracy: 0.8176 - val_loss: 1.6741 - val_accuracy: 0.5918\n",
      "Epoch 14/50\n",
      "74/74 [==============================] - 19s 261ms/step - loss: 0.3040 - accuracy: 0.9021 - val_loss: 2.1453 - val_accuracy: 0.5868\n",
      "Epoch 15/50\n",
      "74/74 [==============================] - 19s 261ms/step - loss: 0.1681 - accuracy: 0.9427 - val_loss: 2.6567 - val_accuracy: 0.5931\n",
      "Epoch 16/50\n",
      "74/74 [==============================] - 19s 261ms/step - loss: 0.1497 - accuracy: 0.9535 - val_loss: 2.9055 - val_accuracy: 0.5776\n",
      "Epoch 17/50\n",
      "74/74 [==============================] - 19s 261ms/step - loss: 0.0869 - accuracy: 0.9744 - val_loss: 2.3870 - val_accuracy: 0.5842\n",
      "Epoch 18/50\n",
      "74/74 [==============================] - 19s 261ms/step - loss: 0.0753 - accuracy: 0.9770 - val_loss: 3.1321 - val_accuracy: 0.5857\n",
      "Epoch 19/50\n",
      "74/74 [==============================] - 19s 261ms/step - loss: 0.0508 - accuracy: 0.9843 - val_loss: 2.5479 - val_accuracy: 0.5804\n",
      "Epoch 20/50\n",
      "74/74 [==============================] - 19s 261ms/step - loss: 0.0421 - accuracy: 0.9883 - val_loss: 3.0565 - val_accuracy: 0.5860\n",
      "Epoch 21/50\n",
      "74/74 [==============================] - 19s 261ms/step - loss: 0.0414 - accuracy: 0.9871 - val_loss: 3.0178 - val_accuracy: 0.5791\n",
      "Epoch 22/50\n",
      "74/74 [==============================] - 19s 261ms/step - loss: 0.0306 - accuracy: 0.9919 - val_loss: 3.4155 - val_accuracy: 0.5679\n",
      "Epoch 23/50\n",
      "74/74 [==============================] - 19s 261ms/step - loss: 0.0257 - accuracy: 0.9922 - val_loss: 3.1455 - val_accuracy: 0.5975\n",
      "Epoch 24/50\n",
      "74/74 [==============================] - 19s 261ms/step - loss: 0.0291 - accuracy: 0.9909 - val_loss: 2.9787 - val_accuracy: 0.5699\n",
      "Epoch 25/50\n",
      "74/74 [==============================] - 19s 261ms/step - loss: 0.0391 - accuracy: 0.9875 - val_loss: 2.9272 - val_accuracy: 0.5931\n",
      "Epoch 26/50\n",
      "74/74 [==============================] - 19s 261ms/step - loss: 0.0238 - accuracy: 0.9926 - val_loss: 3.7266 - val_accuracy: 0.5564\n",
      "Epoch 27/50\n",
      "74/74 [==============================] - 19s 261ms/step - loss: 0.0434 - accuracy: 0.9870 - val_loss: 2.7499 - val_accuracy: 0.5941\n",
      "Epoch 28/50\n",
      "74/74 [==============================] - 19s 261ms/step - loss: 0.0155 - accuracy: 0.9955 - val_loss: 3.6397 - val_accuracy: 0.5753\n",
      "Epoch 29/50\n",
      "74/74 [==============================] - 19s 262ms/step - loss: 0.0204 - accuracy: 0.9930 - val_loss: 3.7972 - val_accuracy: 0.5503\n",
      "Epoch 30/50\n",
      "74/74 [==============================] - 19s 261ms/step - loss: 0.0231 - accuracy: 0.9935 - val_loss: 3.7903 - val_accuracy: 0.5758\n",
      "Epoch 31/50\n",
      "74/74 [==============================] - 19s 261ms/step - loss: 0.0397 - accuracy: 0.9874 - val_loss: 3.4948 - val_accuracy: 0.5712\n",
      "Epoch 32/50\n",
      "74/74 [==============================] - 19s 261ms/step - loss: 0.0270 - accuracy: 0.9918 - val_loss: 3.0308 - val_accuracy: 0.5791\n",
      "Epoch 33/50\n",
      "74/74 [==============================] - 19s 261ms/step - loss: 0.0094 - accuracy: 0.9971 - val_loss: 3.4470 - val_accuracy: 0.5806\n",
      "Epoch 34/50\n",
      "74/74 [==============================] - 19s 261ms/step - loss: 0.0036 - accuracy: 0.9992 - val_loss: 3.9196 - val_accuracy: 0.5837\n",
      "Epoch 35/50\n",
      "74/74 [==============================] - 19s 261ms/step - loss: 0.0082 - accuracy: 0.9975 - val_loss: 3.5982 - val_accuracy: 0.5921\n",
      "Epoch 36/50\n",
      "74/74 [==============================] - 19s 261ms/step - loss: 0.0319 - accuracy: 0.9900 - val_loss: 3.4967 - val_accuracy: 0.5541\n",
      "Epoch 37/50\n",
      "74/74 [==============================] - 19s 261ms/step - loss: 0.0264 - accuracy: 0.9917 - val_loss: 3.3759 - val_accuracy: 0.5704\n",
      "Epoch 38/50\n",
      "12/74 [===>..........................] - ETA: 13s - loss: 0.0111 - accuracy: 0.9954"
     ]
    }
   ],
   "source": [
    "print(\"Num GPUs Available: \", len(tf.config.list_physical_devices('GPU')))\n",
    "\n",
    "# Create VGG16 model\n",
    "vgg16_model = vgg16()\n",
    "# vgg16_model.build((10, 224, 224, 3))\n",
    "\n",
    "# Print model summary\n",
    "# vgg16_model.summary()\n",
    "\n",
    "opt = tf.keras.optimizers.Adam(learning_rate=0.0004, beta_1=0.9, beta_2=0.999, amsgrad=False)\n",
    "\n",
    "# Compile the model\n",
    "vgg16_model.compile(opt, loss='sparse_categorical_crossentropy', metrics=['accuracy'])\n",
    "\n",
    "\n",
    "# Train on image\n",
    "vgg16_model.fit(train_dataset, validation_data=val_dataset, epochs=50)"
   ]
  },
  {
   "cell_type": "code",
   "execution_count": null,
   "id": "33c1fa44-9066-4650-b490-1c270e2fdc3c",
   "metadata": {},
   "outputs": [],
   "source": []
  }
 ],
 "metadata": {
  "kernelspec": {
   "display_name": "tensorflow-2.9.0",
   "language": "python",
   "name": "tensorflow-2.9.0"
  },
  "language_info": {
   "codemirror_mode": {
    "name": "ipython",
    "version": 3
   },
   "file_extension": ".py",
   "mimetype": "text/x-python",
   "name": "python",
   "nbconvert_exporter": "python",
   "pygments_lexer": "ipython3",
   "version": "3.9.15"
  }
 },
 "nbformat": 4,
 "nbformat_minor": 5
}
