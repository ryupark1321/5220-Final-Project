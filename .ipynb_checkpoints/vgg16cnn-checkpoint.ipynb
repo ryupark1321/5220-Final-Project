{
 "cells": [
  {
   "cell_type": "code",
   "execution_count": 2,
   "id": "a1ab5354-2efd-4707-b591-d12dfb680073",
   "metadata": {
    "tags": []
   },
   "outputs": [],
   "source": [
    "import tensorflow as tf\n",
    "from tensorflow.keras.models import Sequential\n",
    "from tensorflow.keras.layers import MaxPooling2D, Flatten, Dense, Conv2D, Rescaling\n",
    "import mpi4py\n",
    "import os"
   ]
  },
  {
   "cell_type": "code",
   "execution_count": 3,
   "id": "bbb82606-d86e-43ff-b6f7-5025a97c3e4e",
   "metadata": {
    "tags": []
   },
   "outputs": [
    {
     "name": "stdout",
     "output_type": "stream",
     "text": [
      "Found 9469 files belonging to 10 classes.\n"
     ]
    },
    {
     "name": "stderr",
     "output_type": "stream",
     "text": [
      "2024-05-05 13:07:33.584705: I tensorflow/core/platform/cpu_feature_guard.cc:193] This TensorFlow binary is optimized with oneAPI Deep Neural Network Library (oneDNN) to use the following CPU instructions in performance-critical operations:  AVX2 FMA\n",
      "To enable them in other operations, rebuild TensorFlow with the appropriate compiler flags.\n",
      "2024-05-05 13:07:35.591661: I tensorflow/core/common_runtime/gpu/gpu_device.cc:1532] Created device /job:localhost/replica:0/task:0/device:GPU:0 with 38218 MB memory:  -> device: 0, name: NVIDIA A100-SXM4-40GB, pci bus id: 0000:03:00.0, compute capability: 8.0\n",
      "2024-05-05 13:07:35.593485: I tensorflow/core/common_runtime/gpu/gpu_device.cc:1532] Created device /job:localhost/replica:0/task:0/device:GPU:1 with 38218 MB memory:  -> device: 1, name: NVIDIA A100-SXM4-40GB, pci bus id: 0000:41:00.0, compute capability: 8.0\n",
      "2024-05-05 13:07:35.594982: I tensorflow/core/common_runtime/gpu/gpu_device.cc:1532] Created device /job:localhost/replica:0/task:0/device:GPU:2 with 38218 MB memory:  -> device: 2, name: NVIDIA A100-SXM4-40GB, pci bus id: 0000:82:00.0, compute capability: 8.0\n",
      "2024-05-05 13:07:35.596597: I tensorflow/core/common_runtime/gpu/gpu_device.cc:1532] Created device /job:localhost/replica:0/task:0/device:GPU:3 with 38218 MB memory:  -> device: 3, name: NVIDIA A100-SXM4-40GB, pci bus id: 0000:c1:00.0, compute capability: 8.0\n"
     ]
    },
    {
     "name": "stdout",
     "output_type": "stream",
     "text": [
      "Found 3925 files belonging to 10 classes.\n"
     ]
    }
   ],
   "source": [
    "# load in dataset from imagenette \n",
    "\n",
    "batch_size = 128\n",
    "img_height = 224\n",
    "img_width = 224\n",
    "scratch = os.environ['SCRATCH']\n",
    "train_dir = os.path.join(scratch,'imagenette/imagenette2/train/')\n",
    "val_dir = os.path.join(scratch,'imagenette/imagenette2/val/')\n",
    "\n",
    "train_dataset = tf.keras.utils.image_dataset_from_directory(\n",
    "    train_dir,\n",
    "    labels='inferred',\n",
    "    label_mode='int',\n",
    "    class_names=None,\n",
    "    color_mode='rgb',\n",
    "    batch_size=batch_size,\n",
    "    image_size=(img_height, img_width),\n",
    "    shuffle=True,\n",
    ")\n",
    "\n",
    "val_dataset = tf.keras.utils.image_dataset_from_directory(\n",
    "    val_dir,\n",
    "    labels='inferred',\n",
    "    label_mode='int',\n",
    "    class_names=None,\n",
    "    color_mode='rgb',\n",
    "    batch_size=batch_size,\n",
    "    image_size=(img_height, img_width),\n",
    "    shuffle=True,\n",
    ")\n",
    "\n",
    "# AUTOTUNE = tf.data.AUTOTUNE\n",
    "\n",
    "# train_dataset = train_dataset.cache().prefetch(buffer_size=AUTOTUNE)\n",
    "# val_dataset = val_dataset.cache().prefetch(buffer_size=AUTOTUNE)"
   ]
  },
  {
   "cell_type": "code",
   "execution_count": 4,
   "id": "d8f95a64-7119-4a99-8798-662c6b919803",
   "metadata": {
    "tags": []
   },
   "outputs": [],
   "source": [
    "def vgg16():\n",
    "    model = Sequential([\n",
    "        Rescaling(1./255),\n",
    "        Conv2D(64, (3, 3), activation='relu', padding='same', input_shape=(224, 224, 3), strides=1),\n",
    "        Conv2D(64, (3, 3), activation='relu', padding='same', strides=1),\n",
    "        MaxPooling2D((2, 2), strides=(2, 2)),\n",
    "        \n",
    "        Conv2D(128, (3, 3), activation='relu', padding='same', strides=1),\n",
    "        Conv2D(128, (3, 3), activation='relu', padding='same', strides=1),\n",
    "        MaxPooling2D((2, 2), strides=(2, 2)),\n",
    "        \n",
    "        Conv2D(256, (3, 3), activation='relu', padding='same', strides=1),\n",
    "        Conv2D(256, (3, 3), activation='relu', padding='same', strides=1),\n",
    "        Conv2D(256, (3, 3), activation='relu', padding='same', strides=1),\n",
    "        MaxPooling2D((2, 2), strides=(2, 2)),\n",
    "        \n",
    "        Conv2D(512, (3, 3), activation='relu', padding='same', strides=1),\n",
    "        Conv2D(512, (3, 3), activation='relu', padding='same', strides=1),\n",
    "        Conv2D(512, (3, 3), activation='relu', padding='same', strides=1),\n",
    "        MaxPooling2D((2, 2), strides=(2, 2)),\n",
    "        \n",
    "        Conv2D(512, (3, 3), activation='relu', padding='same', strides=1),\n",
    "        Conv2D(512, (3, 3), activation='relu', padding='same', strides=1),\n",
    "        Conv2D(512, (3, 3), activation='relu', padding='same', strides=1),\n",
    "        MaxPooling2D((2, 2), strides=(2, 2)),\n",
    "        \n",
    "        Flatten(),\n",
    "        Dense(4096, activation='relu'),\n",
    "        Dense(4096, activation='relu'),\n",
    "        Dense(1000, activation='softmax')\n",
    "    ])\n",
    "    return model"
   ]
  },
  {
   "cell_type": "code",
   "execution_count": 5,
   "id": "3e86ebd8-bbc6-4a0c-af86-4e4a1ec585d4",
   "metadata": {
    "tags": []
   },
   "outputs": [
    {
     "name": "stdout",
     "output_type": "stream",
     "text": [
      "(128, 224, 224, 3)\n"
     ]
    }
   ],
   "source": [
    "train_dataset\n",
    "for image, label in train_dataset.take(1):\n",
    "    print(image.shape)\n",
    "    # print(label)"
   ]
  },
  {
   "cell_type": "code",
   "execution_count": 14,
   "id": "fd585f4e-98a8-48d7-8526-3ec77ab41aa3",
   "metadata": {
    "tags": []
   },
   "outputs": [
    {
     "name": "stdout",
     "output_type": "stream",
     "text": [
      "Num GPUs Available:  4\n"
     ]
    }
   ],
   "source": [
    "print(\"Num GPUs Available: \", len(tf.config.list_physical_devices('GPU')))\n",
    "\n",
    "# Create VGG16 model\n",
    "vgg16_model = vgg16()\n",
    "# vgg16_model.build((10, 224, 224, 3))\n",
    "\n",
    "# Print model summary\n",
    "# vgg16_model.summary()\n",
    "\n",
    "optimizer = tf.keras.optimizers.Adam(learning_rate=0.0004, beta_1=0.9, beta_2=0.999, amsgrad=False)\n",
    "# optimizer= tf.keras.optimizers.Adam(learning_rate=0.001,beta_1=0.9, beta_2=0.999)\n",
    "\n",
    "# Compile the model\n",
    "# vgg16_model.compile(optimizer, loss='sparse_categorical_crossentropy', metrics=['accuracy'])\n",
    "\n",
    "\n",
    "# Train on image\n",
    "# vgg16_model.fit(train_dataset, validation_data=val_dataset, epochs=50)"
   ]
  },
  {
   "cell_type": "code",
   "execution_count": 18,
   "id": "65e49552-dfaa-43c0-9c08-b6d7e903d690",
   "metadata": {
    "tags": []
   },
   "outputs": [],
   "source": [
    "loss_fn = tf.keras.losses.SparseCategoricalCrossentropy(from_logits=True)\n",
    "\n",
    "@tf.function\n",
    "def train_step(x, y):\n",
    "    with tf.GradientTape() as tape:\n",
    "        logits = vgg16_model(x, training=True)\n",
    "        loss_value = loss_fn(y, logits)\n",
    "    grads = tape.gradient(loss_value, vgg16_model.trainable_weights)\n",
    "    optimizer.apply_gradients(zip(grads, vgg16_model.trainable_weights))\n",
    "    train_acc_metric.update_state(y, logits)\n",
    "    return loss_value\n",
    "@tf.function\n",
    "def test_step(x, y):\n",
    "    val_logits = vgg16_model(x, training=False)\n",
    "    val_acc_metric.update_state(y, val_logits)"
   ]
  },
  {
   "cell_type": "code",
   "execution_count": null,
   "id": "f50521b8-12ce-4e9b-9d17-b0d2678f19cc",
   "metadata": {
    "tags": []
   },
   "outputs": [
    {
     "name": "stdout",
     "output_type": "stream",
     "text": [
      "\n",
      "Start of epoch 0\n",
      "Training loss (for one batch) at step 0: 2.3314\n",
      "Seen so far: 128 samples\n",
      "Training loss (for one batch) at step 20: 2.3311\n",
      "Seen so far: 2688 samples\n",
      "Training loss (for one batch) at step 40: 2.3077\n",
      "Seen so far: 5248 samples\n",
      "Training loss (for one batch) at step 60: 2.2932\n",
      "Seen so far: 7808 samples\n",
      "Training acc over epoch: 0.1023\n",
      "Validation acc: 0.0910\n",
      "Time taken: 17.99s\n",
      "\n",
      "Start of epoch 1\n",
      "Training loss (for one batch) at step 0: 2.3031\n",
      "Seen so far: 128 samples\n",
      "Training loss (for one batch) at step 20: 2.3556\n",
      "Seen so far: 2688 samples\n",
      "Training loss (for one batch) at step 40: 2.3144\n",
      "Seen so far: 5248 samples\n",
      "Training loss (for one batch) at step 60: 2.3148\n",
      "Seen so far: 7808 samples\n",
      "Training acc over epoch: 0.1030\n",
      "Validation acc: 0.1042\n",
      "Time taken: 17.42s\n",
      "\n",
      "Start of epoch 2\n",
      "Training loss (for one batch) at step 0: 2.3083\n",
      "Seen so far: 128 samples\n",
      "Training loss (for one batch) at step 20: 2.3073\n",
      "Seen so far: 2688 samples\n",
      "Training loss (for one batch) at step 40: 2.3052\n",
      "Seen so far: 5248 samples\n",
      "Training loss (for one batch) at step 60: 3.3461\n",
      "Seen so far: 7808 samples\n",
      "Training acc over epoch: 0.1079\n",
      "Validation acc: 0.1042\n",
      "Time taken: 17.42s\n",
      "\n",
      "Start of epoch 3\n",
      "Training loss (for one batch) at step 0: 2.3411\n",
      "Seen so far: 128 samples\n",
      "Training loss (for one batch) at step 20: 2.2989\n",
      "Seen so far: 2688 samples\n",
      "Training loss (for one batch) at step 40: 2.3236\n",
      "Seen so far: 5248 samples\n",
      "Training loss (for one batch) at step 60: 2.3138\n",
      "Seen so far: 7808 samples\n",
      "Training acc over epoch: 0.0994\n",
      "Validation acc: 0.0910\n",
      "Time taken: 17.39s\n",
      "\n",
      "Start of epoch 4\n",
      "Training loss (for one batch) at step 0: 2.3127\n",
      "Seen so far: 128 samples\n",
      "Training loss (for one batch) at step 20: 2.3038\n",
      "Seen so far: 2688 samples\n",
      "Training loss (for one batch) at step 40: 2.3062\n",
      "Seen so far: 5248 samples\n",
      "Training loss (for one batch) at step 60: 2.3150\n",
      "Seen so far: 7808 samples\n",
      "Training acc over epoch: 0.1039\n",
      "Validation acc: 0.0986\n",
      "Time taken: 17.39s\n",
      "\n",
      "Start of epoch 5\n",
      "Training loss (for one batch) at step 0: 2.3018\n",
      "Seen so far: 128 samples\n",
      "Training loss (for one batch) at step 20: 2.3238\n",
      "Seen so far: 2688 samples\n",
      "Training loss (for one batch) at step 40: 2.3045\n",
      "Seen so far: 5248 samples\n",
      "Training loss (for one batch) at step 60: 2.3243\n",
      "Seen so far: 7808 samples\n",
      "Training acc over epoch: 0.1017\n",
      "Validation acc: 0.0910\n",
      "Time taken: 17.40s\n",
      "\n",
      "Start of epoch 6\n",
      "Training loss (for one batch) at step 0: 2.3172\n",
      "Seen so far: 128 samples\n",
      "Training loss (for one batch) at step 20: 2.2933\n",
      "Seen so far: 2688 samples\n",
      "Training loss (for one batch) at step 40: 2.3042\n",
      "Seen so far: 5248 samples\n",
      "Training loss (for one batch) at step 60: 2.3159\n",
      "Seen so far: 7808 samples\n",
      "Training acc over epoch: 0.1040\n",
      "Validation acc: 0.0910\n",
      "Time taken: 17.39s\n",
      "\n",
      "Start of epoch 7\n",
      "Training loss (for one batch) at step 0: 2.3169\n",
      "Seen so far: 128 samples\n",
      "Training loss (for one batch) at step 20: 2.3155\n",
      "Seen so far: 2688 samples\n",
      "Training loss (for one batch) at step 40: 2.2984\n",
      "Seen so far: 5248 samples\n",
      "Training loss (for one batch) at step 60: 2.3401\n",
      "Seen so far: 7808 samples\n",
      "Training acc over epoch: 0.0983\n",
      "Validation acc: 0.0986\n",
      "Time taken: 17.39s\n",
      "\n",
      "Start of epoch 8\n",
      "Training loss (for one batch) at step 0: 2.2954\n",
      "Seen so far: 128 samples\n",
      "Training loss (for one batch) at step 20: 2.3083\n",
      "Seen so far: 2688 samples\n",
      "Training loss (for one batch) at step 40: 2.2991\n",
      "Seen so far: 5248 samples\n",
      "Training loss (for one batch) at step 60: 2.2882\n",
      "Seen so far: 7808 samples\n",
      "Training acc over epoch: 0.1021\n",
      "Validation acc: 0.1042\n",
      "Time taken: 17.38s\n",
      "\n",
      "Start of epoch 9\n",
      "Training loss (for one batch) at step 0: 2.2922\n",
      "Seen so far: 128 samples\n",
      "Training loss (for one batch) at step 20: 2.3081\n",
      "Seen so far: 2688 samples\n",
      "Training loss (for one batch) at step 40: 2.3043\n",
      "Seen so far: 5248 samples\n",
      "Training loss (for one batch) at step 60: 2.3099\n",
      "Seen so far: 7808 samples\n",
      "Training acc over epoch: 0.0982\n",
      "Validation acc: 0.0910\n",
      "Time taken: 17.38s\n",
      "\n",
      "Start of epoch 10\n",
      "Training loss (for one batch) at step 0: 2.3166\n",
      "Seen so far: 128 samples\n"
     ]
    }
   ],
   "source": [
    "import time\n",
    "# Instantiate an optimizer to train the model.\n",
    "# optimizer = tf.keras.optimizers.Adam(learning_rate=0.0004, beta_1=0.9, beta_2=0.999, amsgrad=False)\n",
    "# optimizer= tf.keras.optimizers.Adam(learning_rate=0.001,beta_1=0.9, beta_2=0.999)\n",
    "# Instantiate a loss function.\n",
    "\n",
    "# Prepare the metrics.\n",
    "train_acc_metric = tf.keras.metrics.SparseCategoricalAccuracy()\n",
    "val_acc_metric = tf.keras.metrics.SparseCategoricalAccuracy()\n",
    "\n",
    "epochs = 30\n",
    "for epoch in range(epochs):\n",
    "    print(\"\\nStart of epoch %d\" % (epoch,))\n",
    "    start_time = time.time()\n",
    "\n",
    "    # Iterate over the batches of the dataset.\n",
    "    for step, (x_batch_train, y_batch_train) in enumerate(train_dataset):\n",
    "        loss_value = train_step(x_batch_train, y_batch_train)\n",
    "\n",
    "        # Log every 200 batches.\n",
    "        if step % 20 == 0:\n",
    "            print(\n",
    "                \"Training loss (for one batch) at step %d: %.4f\"\n",
    "                % (step, float(loss_value))\n",
    "            )\n",
    "            print(\"Seen so far: %d samples\" % ((step + 1) * batch_size))\n",
    "\n",
    "    # Display metrics at the end of each epoch.\n",
    "    train_acc = train_acc_metric.result()\n",
    "    print(\"Training acc over epoch: %.4f\" % (float(train_acc),))\n",
    "\n",
    "    # Reset training metrics at the end of each epoch\n",
    "    train_acc_metric.reset_states()\n",
    "\n",
    "    # Run a validation loop at the end of each epoch.\n",
    "    for x_batch_val, y_batch_val in val_dataset:\n",
    "        test_step(x_batch_val, y_batch_val)\n",
    "\n",
    "    val_acc = val_acc_metric.result()\n",
    "    val_acc_metric.reset_states()\n",
    "    print(\"Validation acc: %.4f\" % (float(val_acc),))\n",
    "    print(\"Time taken: %.2fs\" % (time.time() - start_time))\n"
   ]
  },
  {
   "cell_type": "code",
   "execution_count": null,
   "id": "97430295-4d82-4dca-b7ca-05fb0cf390f8",
   "metadata": {},
   "outputs": [],
   "source": []
  }
 ],
 "metadata": {
  "kernelspec": {
   "display_name": "tensorflow-2.9.0",
   "language": "python",
   "name": "tensorflow-2.9.0"
  },
  "language_info": {
   "codemirror_mode": {
    "name": "ipython",
    "version": 3
   },
   "file_extension": ".py",
   "mimetype": "text/x-python",
   "name": "python",
   "nbconvert_exporter": "python",
   "pygments_lexer": "ipython3",
   "version": "3.9.15"
  }
 },
 "nbformat": 4,
 "nbformat_minor": 5
}
