{
 "cells": [
  {
   "cell_type": "code",
   "execution_count": null,
   "id": "a1ab5354-2efd-4707-b591-d12dfb680073",
   "metadata": {
    "tags": []
   },
   "outputs": [],
   "source": [
    "import tensorflow as tf\n",
    "from tensorflow.keras.models import Sequential\n",
    "from tensorflow.keras.layers import MaxPooling2D, Flatten, Dense, Conv2D, Rescaling\n",
    "import mpi4py\n",
    "import os"
   ]
  },
  {
   "cell_type": "code",
   "execution_count": null,
   "id": "bbb82606-d86e-43ff-b6f7-5025a97c3e4e",
   "metadata": {
    "tags": []
   },
   "outputs": [],
   "source": [
    "# load in dataset from imagenette \n",
    "# tf.debugging.set_log_device_placement(True)\n",
    "batch_size = 128\n",
    "img_height = 224\n",
    "img_width = 224\n",
    "scratch = os.environ['SCRATCH']\n",
    "train_dir = os.path.join(scratch,'imagenette/imagenette2/train/')\n",
    "val_dir = os.path.join(scratch,'imagenette/imagenette2/val/')\n",
    "\n",
    "train_dataset = tf.keras.utils.image_dataset_from_directory(\n",
    "    train_dir,\n",
    "    labels='inferred',\n",
    "    label_mode='int',\n",
    "    class_names=None,\n",
    "    color_mode='rgb',\n",
    "    batch_size=batch_size,\n",
    "    image_size=(img_height, img_width),\n",
    "    shuffle=True,\n",
    ")\n",
    "\n",
    "val_dataset = tf.keras.utils.image_dataset_from_directory(\n",
    "    val_dir,\n",
    "    labels='inferred',\n",
    "    label_mode='int',\n",
    "    class_names=None,\n",
    "    color_mode='rgb',\n",
    "    batch_size=batch_size,\n",
    "    image_size=(img_height, img_width),\n",
    "    shuffle=True,\n",
    ")\n",
    "\n",
    "# AUTOTUNE = tf.data.AUTOTUNE\n",
    "\n",
    "# train_dataset = train_dataset.cache().prefetch(buffer_size=AUTOTUNE)\n",
    "# val_dataset = val_dataset.cache().prefetch(buffer_size=AUTOTUNE)"
   ]
  },
  {
   "cell_type": "code",
   "execution_count": null,
   "id": "6013d8c2-acb4-4bb2-937e-ee3d23dbb6b1",
   "metadata": {
    "tags": []
   },
   "outputs": [],
   "source": [
    "##### HEY, maybe test out NCCL functions here :) HAGL\n",
    "\n",
    "\n",
    "# train_dataset.experimental.copy_to_device\n",
    "\n",
    "# iterator = tf.compat.v1.data.make_one_shot_iterator(train_dataset)\n",
    "# batch1 = iterator.get_next()\n",
    "# batch1 = train_dataset.take(1)\n",
    "for idx, d in enumerate(['/device:GPU:0', '/device:GPU:1', '/device:GPU:2', '/device:GPU:3']):\n",
    "  with tf.device(d):\n",
    "    if idx == 3:\n",
    "        train_dataset_gpu = train_dataset.take(100)\n",
    "    else:\n",
    "        train_dataset_gpu = \"hi\"\n",
    "\n",
    "for d in ['/device:GPU:0', '/device:GPU:1', '/device:GPU:2', '/device:GPU:3']:\n",
    "  with tf.device(d):\n",
    "    print(train_dataset_gpu)\n",
    "\n",
    "# summ = tf.add_n(c)\n",
    "# # Creates a session with log_device_placement set to True.\n",
    "# sess = tf.compat.v1.Session()\n",
    "# # sess = tf.Session(config=tf.ConfigProto(log_device_placement=True))\n",
    "# # Runs the op.\n",
    "# print(sess.run(summ))"
   ]
  },
  {
   "cell_type": "code",
   "execution_count": null,
   "id": "f48edbbe-49e6-43e9-8ec7-5d9f78df510e",
   "metadata": {
    "tags": []
   },
   "outputs": [],
   "source": [
    "for step, (x_batch_train, y_batch_train) in enumerate(train_dataset):\n",
    "    print(y_batch_train.shape)"
   ]
  },
  {
   "cell_type": "code",
   "execution_count": null,
   "id": "d8f95a64-7119-4a99-8798-662c6b919803",
   "metadata": {
    "tags": []
   },
   "outputs": [],
   "source": [
    "def vgg16():\n",
    "    model = Sequential([\n",
    "        Rescaling(1./255),\n",
    "        Conv2D(64, (3, 3), activation='relu', padding='same', input_shape=(224, 224, 3), strides=1),\n",
    "        Conv2D(64, (3, 3), activation='relu', padding='same', strides=1),\n",
    "        MaxPooling2D((2, 2), strides=(2, 2)),\n",
    "        \n",
    "        Conv2D(128, (3, 3), activation='relu', padding='same', strides=1),\n",
    "        Conv2D(128, (3, 3), activation='relu', padding='same', strides=1),\n",
    "        MaxPooling2D((2, 2), strides=(2, 2)),\n",
    "        \n",
    "        Conv2D(256, (3, 3), activation='relu', padding='same', strides=1),\n",
    "        Conv2D(256, (3, 3), activation='relu', padding='same', strides=1),\n",
    "        Conv2D(256, (3, 3), activation='relu', padding='same', strides=1),\n",
    "        MaxPooling2D((2, 2), strides=(2, 2)),\n",
    "        \n",
    "        Conv2D(512, (3, 3), activation='relu', padding='same', strides=1),\n",
    "        Conv2D(512, (3, 3), activation='relu', padding='same', strides=1),\n",
    "        Conv2D(512, (3, 3), activation='relu', padding='same', strides=1),\n",
    "        MaxPooling2D((2, 2), strides=(2, 2)),\n",
    "        \n",
    "        Conv2D(512, (3, 3), activation='relu', padding='same', strides=1),\n",
    "        Conv2D(512, (3, 3), activation='relu', padding='same', strides=1),\n",
    "        Conv2D(512, (3, 3), activation='relu', padding='same', strides=1),\n",
    "        MaxPooling2D((2, 2), strides=(2, 2)),\n",
    "        \n",
    "        Flatten(),\n",
    "        Dense(4096, activation='relu'),\n",
    "        Dense(4096, activation='relu'),\n",
    "        Dense(1000, activation='softmax')\n",
    "    ])\n",
    "    return model\n"
   ]
  },
  {
   "cell_type": "code",
   "execution_count": null,
   "id": "3e86ebd8-bbc6-4a0c-af86-4e4a1ec585d4",
   "metadata": {
    "tags": []
   },
   "outputs": [],
   "source": [
    "train_dataset\n",
    "for image, label in train_dataset.take(1):\n",
    "    print(image.shape)\n",
    "    # print(label)"
   ]
  },
  {
   "cell_type": "code",
   "execution_count": null,
   "id": "fd585f4e-98a8-48d7-8526-3ec77ab41aa3",
   "metadata": {
    "tags": []
   },
   "outputs": [],
   "source": [
    "print(\"Num GPUs Available: \", len(tf.config.list_physical_devices('GPU')))\n",
    "\n",
    "# Create VGG16 model\n",
    "vgg16_model = vgg16()\n",
    "vgg16_model.build((batch_size, 224, 224, 3))\n",
    "\n",
    "# Print model summary\n",
    "# vgg16_model.summary()\n",
    "\n",
    "optimizer = tf.keras.optimizers.Adam(learning_rate=0.0004, beta_1=0.9, beta_2=0.999, amsgrad=False)\n",
    "# optimizer= tf.keras.optimizers.Adam(learning_rate=0.001,beta_1=0.9, beta_2=0.999)\n",
    "\n",
    "# Compile the model\n",
    "# vgg16_model.compile(optimizer, loss='sparse_categorical_crossentropy', metrics=['accuracy'])\n",
    "\n",
    "\n",
    "# Train on image\n",
    "# vgg16_model.fit(train_dataset, validation_data=val_dataset, epochs=50)"
   ]
  },
  {
   "cell_type": "code",
   "execution_count": null,
   "id": "4d1d4713-cbb4-4a48-8851-5127eee313da",
   "metadata": {
    "tags": []
   },
   "outputs": [],
   "source": [
    "# Save initial weights - do not run\n",
    "vgg16_model.save_weights('initial_weights.h5')"
   ]
  },
  {
   "cell_type": "code",
   "execution_count": null,
   "id": "5c53aac9-e0fc-409b-9f74-fc57d5a8e8dd",
   "metadata": {
    "tags": []
   },
   "outputs": [],
   "source": [
    "vgg16_model.load_weights('initial_weights.h5')"
   ]
  },
  {
   "cell_type": "code",
   "execution_count": null,
   "id": "65e49552-dfaa-43c0-9c08-b6d7e903d690",
   "metadata": {
    "tags": []
   },
   "outputs": [],
   "source": [
    "loss_fn = tf.keras.losses.SparseCategoricalCrossentropy(from_logits=True)\n",
    "\n",
    "@tf.function\n",
    "def train_step(x, y):\n",
    "    with tf.GradientTape() as tape:\n",
    "        logits = vgg16_model(x, training=True)\n",
    "        loss_value = loss_fn(y, logits)\n",
    "    grads = tape.gradient(loss_value, vgg16_model.trainable_weights)\n",
    "    optimizer.apply_gradients(zip(grads, vgg16_model.trainable_weights))\n",
    "    train_acc_metric.update_state(y, logits)\n",
    "    return loss_value\n",
    "@tf.function\n",
    "def test_step(x, y):\n",
    "    val_logits = vgg16_model(x, training=False)\n",
    "    val_acc_metric.update_state(y, val_logits)"
   ]
  },
  {
   "cell_type": "code",
   "execution_count": null,
   "id": "f50521b8-12ce-4e9b-9d17-b0d2678f19cc",
   "metadata": {
    "tags": []
   },
   "outputs": [],
   "source": [
    "import time\n",
    "# Instantiate an optimizer to train the model.\n",
    "# optimizer = tf.keras.optimizers.Adam(learning_rate=0.0004, beta_1=0.9, beta_2=0.999, amsgrad=False)\n",
    "# optimizer= tf.keras.optimizers.Adam(learning_rate=0.001,beta_1=0.9, beta_2=0.999)\n",
    "# Instantiate a loss function.\n",
    "\n",
    "# Prepare the metrics.\n",
    "train_acc_metric = tf.keras.metrics.SparseCategoricalAccuracy()\n",
    "val_acc_metric = tf.keras.metrics.SparseCategoricalAccuracy()\n",
    "\n",
    "epochs = 30\n",
    "for epoch in range(epochs):\n",
    "    print(\"\\nStart of epoch %d\" % (epoch,))\n",
    "    start_time = time.time()\n",
    "\n",
    "    # Iterate over the batches of the dataset.\n",
    "    for step, (x_batch_train, y_batch_train) in enumerate(train_dataset):\n",
    "        loss_value = train_step(x_batch_train, y_batch_train)\n",
    "\n",
    "        # Log every 200 batches.\n",
    "        if step % 20 == 0:\n",
    "            print(\n",
    "                \"Training loss (for one batch) at step %d: %.4f\"\n",
    "                % (step, float(loss_value))\n",
    "            )\n",
    "            print(\"Seen so far: %d samples\" % ((step + 1) * batch_size))\n",
    "\n",
    "    # Display metrics at the end of each epoch.\n",
    "    train_acc = train_acc_metric.result()\n",
    "    print(\"Training acc over epoch: %.4f\" % (float(train_acc),))\n",
    "\n",
    "    # Reset training metrics at the end of each epoch\n",
    "    train_acc_metric.reset_states()\n",
    "\n",
    "    # Run a validation loop at the end of each epoch.\n",
    "    for x_batch_val, y_batch_val in val_dataset:\n",
    "        test_step(x_batch_val, y_batch_val)\n",
    "\n",
    "    val_acc = val_acc_metric.result()\n",
    "    val_acc_metric.reset_states()\n",
    "    print(\"Validation acc: %.4f\" % (float(val_acc),))\n",
    "    print(\"Time taken: %.2fs\" % (time.time() - start_time))\n"
   ]
  },
  {
   "cell_type": "code",
   "execution_count": null,
   "id": "97430295-4d82-4dca-b7ca-05fb0cf390f8",
   "metadata": {},
   "outputs": [],
   "source": []
  }
 ],
 "metadata": {
  "kernelspec": {
   "display_name": "tensorflow-2.9.0",
   "language": "python",
   "name": "tensorflow-2.9.0"
  },
  "language_info": {
   "codemirror_mode": {
    "name": "ipython",
    "version": 3
   },
   "file_extension": ".py",
   "mimetype": "text/x-python",
   "name": "python",
   "nbconvert_exporter": "python",
   "pygments_lexer": "ipython3",
   "version": "3.9.15"
  }
 },
 "nbformat": 4,
 "nbformat_minor": 5
}
